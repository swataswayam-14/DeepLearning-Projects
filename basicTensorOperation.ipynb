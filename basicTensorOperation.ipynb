{
 "cells": [
  {
   "cell_type": "code",
   "execution_count": 1,
   "metadata": {},
   "outputs": [],
   "source": [
    "import tensorflow as tf"
   ]
  },
  {
   "cell_type": "code",
   "execution_count": 2,
   "metadata": {},
   "outputs": [],
   "source": [
    "tensor_zero_d = tf.constant(4) #creates a tensor 0 dimensional tensor"
   ]
  },
  {
   "cell_type": "code",
   "execution_count": 3,
   "metadata": {},
   "outputs": [
    {
     "name": "stdout",
     "output_type": "stream",
     "text": [
      "tf.Tensor(4, shape=(), dtype=int32)\n"
     ]
    }
   ],
   "source": [
    "print(tensor_zero_d)"
   ]
  },
  {
   "cell_type": "code",
   "execution_count": 5,
   "metadata": {},
   "outputs": [
    {
     "name": "stdout",
     "output_type": "stream",
     "text": [
      "tf.Tensor([ 1.  2. -4.], shape=(3,), dtype=float32)\n"
     ]
    }
   ],
   "source": [
    "tensor_one_d = tf.constant([1.0,2,-4])\n",
    "print(tensor_one_d)"
   ]
  },
  {
   "cell_type": "code",
   "execution_count": 8,
   "metadata": {},
   "outputs": [],
   "source": [
    "tensor_two_d  = tf.constant([\n",
    "    [2,5,-1],\n",
    "    [2,4,1],\n",
    "    [3,123,5],\n",
    "    [3,8,9]\n",
    "])"
   ]
  },
  {
   "cell_type": "code",
   "execution_count": 9,
   "metadata": {},
   "outputs": [
    {
     "name": "stdout",
     "output_type": "stream",
     "text": [
      "tf.Tensor(\n",
      "[[  2   5  -1]\n",
      " [  2   4   1]\n",
      " [  3 123   5]\n",
      " [  3   8   9]], shape=(4, 3), dtype=int32)\n"
     ]
    }
   ],
   "source": [
    "print(tensor_two_d)"
   ]
  },
  {
   "cell_type": "code",
   "execution_count": 10,
   "metadata": {},
   "outputs": [
    {
     "name": "stdout",
     "output_type": "stream",
     "text": [
      "tf.Tensor(\n",
      "[[[  1   4   3]\n",
      "  [  1   5 454]\n",
      "  [ 34 565 424]\n",
      "  [123 453  67]]\n",
      "\n",
      " [[  1   4   3]\n",
      "  [  1   5 454]\n",
      "  [ 34 565 424]\n",
      "  [123 453  67]]], shape=(2, 4, 3), dtype=int32)\n"
     ]
    }
   ],
   "source": [
    "tensor_three_d = tf.constant([\n",
    "    [\n",
    "        [1,4,3],\n",
    "        [1,5,454],\n",
    "        [34,565,424],\n",
    "        [123,453,67]\n",
    "    ],\n",
    "    [\n",
    "        [1,4,3],\n",
    "        [1,5,454],\n",
    "        [34,565,424],\n",
    "        [123,453,67]\n",
    "    ]\n",
    "    \n",
    "])\n",
    "\n",
    "print(tensor_three_d)"
   ]
  },
  {
   "cell_type": "code",
   "execution_count": 11,
   "metadata": {},
   "outputs": [
    {
     "name": "stdout",
     "output_type": "stream",
     "text": [
      "(2, 4, 3)\n"
     ]
    }
   ],
   "source": [
    "print(tensor_three_d.shape)"
   ]
  },
  {
   "cell_type": "code",
   "execution_count": 13,
   "metadata": {},
   "outputs": [
    {
     "name": "stdout",
     "output_type": "stream",
     "text": [
      "3\n"
     ]
    }
   ],
   "source": [
    "print(tensor_three_d.ndim) # 3 d tensor"
   ]
  },
  {
   "cell_type": "code",
   "execution_count": 16,
   "metadata": {},
   "outputs": [
    {
     "name": "stdout",
     "output_type": "stream",
     "text": [
      "tf.Tensor(\n",
      "[[[[  1   2   3   4   5]\n",
      "   [  4   2   7   2   6]\n",
      "   [ 23   6   3   4  65]\n",
      "   [ 34   5   4 657 324]]\n",
      "\n",
      "  [[  1   2   3   4   5]\n",
      "   [  4   2   7   2   6]\n",
      "   [ 23   6   3   4  65]\n",
      "   [ 34  54  65   7 324]]\n",
      "\n",
      "  [[  1   2   3   4   5]\n",
      "   [  4   2   7   2   6]\n",
      "   [  2   3   6  34  65]\n",
      "   [ 34  54   6  57 324]]]\n",
      "\n",
      "\n",
      " [[[  1   2   3   4   5]\n",
      "   [  4   2   7   2   6]\n",
      "   [ 23   6   3   4  65]\n",
      "   [ 34  54 657   3  24]]\n",
      "\n",
      "  [[  1   2   3   4   5]\n",
      "   [  4   2   7   2   6]\n",
      "   [ 23   6  34   6   5]\n",
      "   [ 34  54 657   3  24]]\n",
      "\n",
      "  [[  1   2   3   4   5]\n",
      "   [  4   2   7   2   6]\n",
      "   [ 23   6  34  65   4]\n",
      "   [ 34  54 657   2 324]]]], shape=(2, 3, 4, 5), dtype=int32)\n"
     ]
    }
   ],
   "source": [
    "tensor_four_d = tf.constant([\n",
    "    [\n",
    "        [\n",
    "            [1,2,3,4,5],\n",
    "            [4,2,7,2,6],\n",
    "            [23,6,3,4,65],\n",
    "            [34,5,4,657,324]\n",
    "        ],\n",
    "        [\n",
    "            [1,2,3,4,5],\n",
    "            [4,2,7,2,6],\n",
    "            [23,6,3,4,65],\n",
    "            [34,54,65,7,324]\n",
    "        ],\n",
    "        [\n",
    "            [1,2,3,4,5],\n",
    "            [4,2,7,2,6],\n",
    "            [2,3,6,34,65],\n",
    "            [34,54,6,57,324]\n",
    "        ],\n",
    "    ],\n",
    "     [\n",
    "        [\n",
    "            [1,2,3,4,5],\n",
    "            [4,2,7,2,6],\n",
    "            [23,6,3,4,65],\n",
    "            [34,54,657,3,24]\n",
    "        ],\n",
    "        [\n",
    "            [1,2,3,4,5],\n",
    "            [4,2,7,2,6],\n",
    "            [23,6,34,6,5],\n",
    "            [34,54,657,3,24]\n",
    "        ],\n",
    "        [\n",
    "            [1,2,3,4,5],\n",
    "            [4,2,7,2,6],\n",
    "            [23,6,34,65,4],\n",
    "            [34,54,657,2,324]\n",
    "        ]\n",
    "    ]\n",
    "])\n",
    "print(tensor_four_d)"
   ]
  },
  {
   "cell_type": "code",
   "execution_count": 19,
   "metadata": {},
   "outputs": [],
   "source": [
    "tensor_one_d_32 = tf.constant([23,4,5,1], dtype=tf.float32) #pecision value is 32, if it is float16 then less memory is required to store it"
   ]
  },
  {
   "cell_type": "code",
   "execution_count": 20,
   "metadata": {},
   "outputs": [
    {
     "name": "stdout",
     "output_type": "stream",
     "text": [
      "tf.Tensor([23.  4.  5.  1.], shape=(4,), dtype=float32)\n"
     ]
    }
   ],
   "source": [
    "print(tensor_one_d_32)"
   ]
  },
  {
   "cell_type": "code",
   "execution_count": 23,
   "metadata": {},
   "outputs": [
    {
     "name": "stdout",
     "output_type": "stream",
     "text": [
      "tf.Tensor([ True  True  True], shape=(3,), dtype=bool)\n"
     ]
    }
   ],
   "source": [
    "casted_tensor_one_d = tf.cast(tensor_one_d , dtype=tf.bool)\n",
    "print(casted_tensor_one_d)"
   ]
  },
  {
   "cell_type": "code",
   "execution_count": 24,
   "metadata": {},
   "outputs": [
    {
     "name": "stdout",
     "output_type": "stream",
     "text": [
      "tf.Tensor([ True  True False  True], shape=(4,), dtype=bool)\n"
     ]
    }
   ],
   "source": [
    "tensor_bool = tf.constant([True, True, False, True])\n",
    "print(tensor_bool)"
   ]
  },
  {
   "cell_type": "code",
   "execution_count": 25,
   "metadata": {},
   "outputs": [
    {
     "name": "stdout",
     "output_type": "stream",
     "text": [
      "tf.Tensor([1 1 0 1], shape=(4,), dtype=int16)\n"
     ]
    }
   ],
   "source": [
    "cast_tensor_bool = tf.cast(tensor_bool , dtype=tf.int16)\n",
    "print(cast_tensor_bool)"
   ]
  },
  {
   "cell_type": "code",
   "execution_count": 26,
   "metadata": {},
   "outputs": [
    {
     "name": "stdout",
     "output_type": "stream",
     "text": [
      "tf.Tensor(b'Hello world', shape=(), dtype=string)\n"
     ]
    }
   ],
   "source": [
    "tensor_string = tf.constant(\"Hello world\")\n",
    "print(tensor_string)"
   ]
  },
  {
   "cell_type": "code",
   "execution_count": 28,
   "metadata": {},
   "outputs": [
    {
     "name": "stdout",
     "output_type": "stream",
     "text": [
      "tf.Tensor(\n",
      "[[[[b'hello World']\n",
      "   [b'hello World']\n",
      "   [b'hello World']]\n",
      "\n",
      "  [[b'hello World']\n",
      "   [b'hello World']\n",
      "   [b'hello World']]]\n",
      "\n",
      "\n",
      " [[[b'hello World']\n",
      "   [b'hello World']\n",
      "   [b'hello World']]\n",
      "\n",
      "  [[b'hello World']\n",
      "   [b'hello World']\n",
      "   [b'hello World']]]], shape=(2, 2, 3, 1), dtype=string)\n"
     ]
    }
   ],
   "source": [
    "#creating a four dimensional tensor of type string with dimension 2*2*3*1\n",
    "\n",
    "tensor_string_four_d = tf.constant([\n",
    "    [\n",
    "        [\n",
    "           [\"hello World\"],\n",
    "           [\"hello World\"],\n",
    "           [\"hello World\"] \n",
    "        ],\n",
    "        [\n",
    "            [\"hello World\"],\n",
    "            [\"hello World\"],\n",
    "            [\"hello World\"]\n",
    "        ]\n",
    "    ],\n",
    "    [\n",
    "         [\n",
    "            [\"hello World\"],\n",
    "            [\"hello World\"],\n",
    "            [\"hello World\"]\n",
    "         ],\n",
    "         [\n",
    "            [\"hello World\"],\n",
    "            [\"hello World\"],\n",
    "            [\"hello World\"]\n",
    "         ]\n",
    "    ]\n",
    "])\n",
    "print(tensor_string_four_d)"
   ]
  },
  {
   "cell_type": "code",
   "execution_count": 29,
   "metadata": {},
   "outputs": [],
   "source": [
    "import numpy as np \n"
   ]
  },
  {
   "cell_type": "code",
   "execution_count": 30,
   "metadata": {},
   "outputs": [
    {
     "name": "stdout",
     "output_type": "stream",
     "text": [
      "[1 2 3]\n"
     ]
    }
   ],
   "source": [
    "np_array = np.array([1,2,3])\n",
    "print(np_array)"
   ]
  },
  {
   "cell_type": "code",
   "execution_count": 31,
   "metadata": {},
   "outputs": [
    {
     "name": "stdout",
     "output_type": "stream",
     "text": [
      "(3,)\n"
     ]
    }
   ],
   "source": [
    "print(np_array.shape)"
   ]
  },
  {
   "cell_type": "code",
   "execution_count": 32,
   "metadata": {},
   "outputs": [
    {
     "name": "stdout",
     "output_type": "stream",
     "text": [
      "tf.Tensor([1 2 3], shape=(3,), dtype=int32)\n"
     ]
    }
   ],
   "source": [
    "#converting the numpy array into tensor\n",
    "converted_tensor = tf.convert_to_tensor(np_array)\n",
    "print(converted_tensor)"
   ]
  },
  {
   "cell_type": "code",
   "execution_count": 46,
   "metadata": {},
   "outputs": [
    {
     "name": "stdout",
     "output_type": "stream",
     "text": [
      "tf.Tensor(\n",
      "[[[[1. 0. 0. 0. 0.]\n",
      "   [0. 1. 0. 0. 0.]\n",
      "   [0. 0. 1. 0. 0.]\n",
      "   [0. 0. 0. 1. 0.]\n",
      "   [0. 0. 0. 0. 1.]]\n",
      "\n",
      "  [[1. 0. 0. 0. 0.]\n",
      "   [0. 1. 0. 0. 0.]\n",
      "   [0. 0. 1. 0. 0.]\n",
      "   [0. 0. 0. 1. 0.]\n",
      "   [0. 0. 0. 0. 1.]]]\n",
      "\n",
      "\n",
      " [[[1. 0. 0. 0. 0.]\n",
      "   [0. 1. 0. 0. 0.]\n",
      "   [0. 0. 1. 0. 0.]\n",
      "   [0. 0. 0. 1. 0.]\n",
      "   [0. 0. 0. 0. 1.]]\n",
      "\n",
      "  [[1. 0. 0. 0. 0.]\n",
      "   [0. 1. 0. 0. 0.]\n",
      "   [0. 0. 1. 0. 0.]\n",
      "   [0. 0. 0. 1. 0.]\n",
      "   [0. 0. 0. 0. 1.]]]], shape=(2, 2, 5, 5), dtype=float64)\n"
     ]
    }
   ],
   "source": [
    "#identity matrix\n",
    "\n",
    "eye_tensor = tf.eye(\n",
    "    num_rows=5,\n",
    "    num_columns=None, #when we define the number of columns as n then the number of columns automatically takes in the value of n\n",
    "    batch_shape=[2,2], #batch size determines the dimensions of the matrices if batch_shape = [2,] that is we want 2 5*5 identity matrices\n",
    "    dtype=tf.dtypes.float64,\n",
    "    name=None\n",
    ")\n",
    "print(eye_tensor)"
   ]
  },
  {
   "cell_type": "code",
   "execution_count": 50,
   "metadata": {},
   "outputs": [
    {
     "name": "stdout",
     "output_type": "stream",
     "text": [
      "tf.Tensor(\n",
      "[[[[9 9 9 9 9]\n",
      "   [9 9 9 9 9]\n",
      "   [9 9 9 9 9]\n",
      "   [9 9 9 9 9]\n",
      "   [9 9 9 9 9]]\n",
      "\n",
      "  [[9 9 9 9 9]\n",
      "   [9 9 9 9 9]\n",
      "   [9 9 9 9 9]\n",
      "   [9 9 9 9 9]\n",
      "   [9 9 9 9 9]]\n",
      "\n",
      "  [[9 9 9 9 9]\n",
      "   [9 9 9 9 9]\n",
      "   [9 9 9 9 9]\n",
      "   [9 9 9 9 9]\n",
      "   [9 9 9 9 9]]]\n",
      "\n",
      "\n",
      " [[[9 9 9 9 9]\n",
      "   [9 9 9 9 9]\n",
      "   [9 9 9 9 9]\n",
      "   [9 9 9 9 9]\n",
      "   [9 9 9 9 9]]\n",
      "\n",
      "  [[9 9 9 9 9]\n",
      "   [9 9 9 9 9]\n",
      "   [9 9 9 9 9]\n",
      "   [9 9 9 9 9]\n",
      "   [9 9 9 9 9]]\n",
      "\n",
      "  [[9 9 9 9 9]\n",
      "   [9 9 9 9 9]\n",
      "   [9 9 9 9 9]\n",
      "   [9 9 9 9 9]\n",
      "   [9 9 9 9 9]]]], shape=(2, 3, 5, 5), dtype=int32)\n"
     ]
    }
   ],
   "source": [
    "#the fill method creates a tensor filled with a scalar value\n",
    "tensor_nine = tf.fill([2,3,5,5],9)\n",
    "print(tensor_nine)"
   ]
  },
  {
   "cell_type": "code",
   "execution_count": 51,
   "metadata": {},
   "outputs": [
    {
     "name": "stdout",
     "output_type": "stream",
     "text": [
      "tf.Tensor(\n",
      "[[1. 1.]\n",
      " [1. 1.]], shape=(2, 2), dtype=float16)\n"
     ]
    }
   ],
   "source": [
    "#tf.ones() mehod creates a tensor with all elements set to one\n",
    "\n",
    "tensor_one = tf.ones(\n",
    "    shape=[2,2],\n",
    "    dtype=tf.float16,\n",
    "    name=None\n",
    ")\n",
    "\n",
    "print(tensor_one)"
   ]
  },
  {
   "cell_type": "code",
   "execution_count": 53,
   "metadata": {},
   "outputs": [
    {
     "name": "stdout",
     "output_type": "stream",
     "text": [
      "tf.Tensor(\n",
      "[[[[1 1 1 1 1]\n",
      "   [1 1 1 1 1]\n",
      "   [1 1 1 1 1]\n",
      "   [1 1 1 1 1]\n",
      "   [1 1 1 1 1]]\n",
      "\n",
      "  [[1 1 1 1 1]\n",
      "   [1 1 1 1 1]\n",
      "   [1 1 1 1 1]\n",
      "   [1 1 1 1 1]\n",
      "   [1 1 1 1 1]]\n",
      "\n",
      "  [[1 1 1 1 1]\n",
      "   [1 1 1 1 1]\n",
      "   [1 1 1 1 1]\n",
      "   [1 1 1 1 1]\n",
      "   [1 1 1 1 1]]]\n",
      "\n",
      "\n",
      " [[[1 1 1 1 1]\n",
      "   [1 1 1 1 1]\n",
      "   [1 1 1 1 1]\n",
      "   [1 1 1 1 1]\n",
      "   [1 1 1 1 1]]\n",
      "\n",
      "  [[1 1 1 1 1]\n",
      "   [1 1 1 1 1]\n",
      "   [1 1 1 1 1]\n",
      "   [1 1 1 1 1]\n",
      "   [1 1 1 1 1]]\n",
      "\n",
      "  [[1 1 1 1 1]\n",
      "   [1 1 1 1 1]\n",
      "   [1 1 1 1 1]\n",
      "   [1 1 1 1 1]\n",
      "   [1 1 1 1 1]]]], shape=(2, 3, 5, 5), dtype=int16)\n"
     ]
    }
   ],
   "source": [
    "#the method tf.ones_like() : - creates a tensor of all ones that has the same shape as the input\n",
    "\n",
    "#it will create the same array (same dimension) as the input array that is passed to it with all its values set to 1\n",
    "\n",
    "ones_like_tensor = tf.ones_like(\n",
    "    tensor_nine , dtype=tf.int16 , name=None\n",
    ")\n",
    "\n",
    "print(ones_like_tensor)\n",
    "\n"
   ]
  },
  {
   "cell_type": "code",
   "execution_count": 54,
   "metadata": {},
   "outputs": [
    {
     "name": "stdout",
     "output_type": "stream",
     "text": [
      "tf.Tensor(\n",
      "[[0. 0.]\n",
      " [0. 0.]\n",
      " [0. 0.]], shape=(3, 2), dtype=float32)\n"
     ]
    }
   ],
   "source": [
    "#tf.zeros method creates a tensor with all elements set to zero\n",
    "\n",
    "zeros_tensor = tf.zeros(\n",
    "    [3,2],\n",
    "    dtype=tf.float32,\n",
    "    name=None\n",
    ")\n",
    "\n",
    "print(zeros_tensor)"
   ]
  },
  {
   "cell_type": "code",
   "execution_count": 56,
   "metadata": {},
   "outputs": [
    {
     "name": "stdout",
     "output_type": "stream",
     "text": [
      "tf.Tensor([2 4 3], shape=(3,), dtype=int32)\n"
     ]
    }
   ],
   "source": [
    "print(tf.shape(tensor_three_d)) #prints the shape of the tensor tensor_three_d as a list"
   ]
  },
  {
   "cell_type": "code",
   "execution_count": 57,
   "metadata": {},
   "outputs": [
    {
     "name": "stdout",
     "output_type": "stream",
     "text": [
      "tf.Tensor(2, shape=(), dtype=int32)\n"
     ]
    }
   ],
   "source": [
    "#the rank method returns the rank of a tensor\n",
    "\n",
    "rank_two_d_tensor = tf.rank(\n",
    "    tensor_two_d , name=None\n",
    ")\n",
    "\n",
    "print(rank_two_d_tensor)"
   ]
  },
  {
   "cell_type": "code",
   "execution_count": 59,
   "metadata": {},
   "outputs": [
    {
     "name": "stdout",
     "output_type": "stream",
     "text": [
      "(2, 4, 3)\n",
      "tf.Tensor(24, shape=(), dtype=int16)\n"
     ]
    }
   ],
   "source": [
    "#the size method returns the size of a tensor\n",
    "\n",
    "size_of_three_d_tensor = tf.size(\n",
    "    tensor_three_d,\n",
    "    out_type=tf.dtypes.int16,\n",
    "    name=None\n",
    ")\n",
    "print(tensor_three_d.shape)\n",
    "print(size_of_three_d_tensor)"
   ]
  },
  {
   "cell_type": "code",
   "execution_count": 66,
   "metadata": {},
   "outputs": [
    {
     "name": "stdout",
     "output_type": "stream",
     "text": [
      "tf.Tensor(\n",
      "[[-0.42658973 -0.8599255 ]\n",
      " [ 4.6454186   5.117605  ]\n",
      " [ 5.325585   -0.28440356]], shape=(3, 2), dtype=float32)\n"
     ]
    }
   ],
   "source": [
    "random_tensor = tf.random.normal(\n",
    "    [3,2],\n",
    "    mean=2.0,\n",
    "    stddev=1.9,\n",
    "    dtype=tf.dtypes.float32,\n",
    "    seed=None,\n",
    "    name=None\n",
    ")\n",
    "\n",
    "print(random_tensor)\n",
    "\n"
   ]
  },
  {
   "cell_type": "code",
   "execution_count": 69,
   "metadata": {},
   "outputs": [
    {
     "name": "stdout",
     "output_type": "stream",
     "text": [
      "tf.Tensor(\n",
      "[[0.06950327 0.06205171 0.03137449]\n",
      " [0.0056103  0.09176873 0.01837716]\n",
      " [0.09484754 0.02956945 0.0583853 ]], shape=(3, 3), dtype=float32)\n"
     ]
    }
   ],
   "source": [
    "#generating random normals from uniform distribution\n",
    "\n",
    "#tf.random.uniform : outputs random values from a uniform distribution\n",
    "\n",
    "uniform_tensor = tf.random.uniform(\n",
    "    [3,3],\n",
    "    minval=0,\n",
    "    maxval=0.1, #maxval if set to None then it defaults to 1\n",
    "    dtype=tf.dtypes.float32,\n",
    "    seed=None,\n",
    "    name=None\n",
    ")\n",
    "\n",
    "print(uniform_tensor)"
   ]
  },
  {
   "cell_type": "code",
   "execution_count": 70,
   "metadata": {},
   "outputs": [],
   "source": [
    "#seed argument\n",
    "\n",
    "#A Python integer. Usedin combination with tf.random.set_seed to create a reproducible sequence of tensors across multiple calls"
   ]
  },
  {
   "cell_type": "code",
   "execution_count": null,
   "metadata": {},
   "outputs": [],
   "source": []
  }
 ],
 "metadata": {
  "kernelspec": {
   "display_name": "Python 3",
   "language": "python",
   "name": "python3"
  },
  "language_info": {
   "codemirror_mode": {
    "name": "ipython",
    "version": 3
   },
   "file_extension": ".py",
   "mimetype": "text/x-python",
   "name": "python",
   "nbconvert_exporter": "python",
   "pygments_lexer": "ipython3",
   "version": "3.11.1"
  }
 },
 "nbformat": 4,
 "nbformat_minor": 2
}
