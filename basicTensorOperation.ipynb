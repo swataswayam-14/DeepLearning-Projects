{
 "cells": [
  {
   "cell_type": "code",
   "execution_count": 2,
   "metadata": {},
   "outputs": [],
   "source": [
    "import tensorflow as tf"
   ]
  },
  {
   "cell_type": "code",
   "execution_count": 3,
   "metadata": {},
   "outputs": [],
   "source": [
    "tensor_zero_d = tf.constant(4) #creates a tensor 0 dimensional tensor"
   ]
  },
  {
   "cell_type": "code",
   "execution_count": 4,
   "metadata": {},
   "outputs": [
    {
     "name": "stdout",
     "output_type": "stream",
     "text": [
      "tf.Tensor(4, shape=(), dtype=int32)\n"
     ]
    }
   ],
   "source": [
    "print(tensor_zero_d)"
   ]
  },
  {
   "cell_type": "code",
   "execution_count": 5,
   "metadata": {},
   "outputs": [
    {
     "name": "stdout",
     "output_type": "stream",
     "text": [
      "tf.Tensor([ 1.  2. -4.], shape=(3,), dtype=float32)\n"
     ]
    }
   ],
   "source": [
    "tensor_one_d = tf.constant([1.0,2,-4])\n",
    "print(tensor_one_d)"
   ]
  },
  {
   "cell_type": "code",
   "execution_count": 6,
   "metadata": {},
   "outputs": [],
   "source": [
    "tensor_two_d  = tf.constant([\n",
    "    [2,5,-1],\n",
    "    [2,4,1],\n",
    "    [3,123,5],\n",
    "    [3,8,9]\n",
    "])"
   ]
  },
  {
   "cell_type": "code",
   "execution_count": 7,
   "metadata": {},
   "outputs": [
    {
     "name": "stdout",
     "output_type": "stream",
     "text": [
      "tf.Tensor(\n",
      "[[  2   5  -1]\n",
      " [  2   4   1]\n",
      " [  3 123   5]\n",
      " [  3   8   9]], shape=(4, 3), dtype=int32)\n"
     ]
    }
   ],
   "source": [
    "print(tensor_two_d)"
   ]
  },
  {
   "cell_type": "code",
   "execution_count": 8,
   "metadata": {},
   "outputs": [
    {
     "name": "stdout",
     "output_type": "stream",
     "text": [
      "tf.Tensor(\n",
      "[[[  1   4   3]\n",
      "  [  1   5 454]\n",
      "  [ 34 565 424]\n",
      "  [123 453  67]]\n",
      "\n",
      " [[  1   4   3]\n",
      "  [  1   5 454]\n",
      "  [ 34 565 424]\n",
      "  [123 453  67]]], shape=(2, 4, 3), dtype=int32)\n"
     ]
    }
   ],
   "source": [
    "tensor_three_d = tf.constant([\n",
    "    [\n",
    "        [1,4,3],\n",
    "        [1,5,454],\n",
    "        [34,565,424],\n",
    "        [123,453,67]\n",
    "    ],\n",
    "    [\n",
    "        [1,4,3],\n",
    "        [1,5,454],\n",
    "        [34,565,424],\n",
    "        [123,453,67]\n",
    "    ]\n",
    "    \n",
    "])\n",
    "\n",
    "print(tensor_three_d)"
   ]
  },
  {
   "cell_type": "code",
   "execution_count": 9,
   "metadata": {},
   "outputs": [
    {
     "name": "stdout",
     "output_type": "stream",
     "text": [
      "(2, 4, 3)\n"
     ]
    }
   ],
   "source": [
    "print(tensor_three_d.shape)"
   ]
  },
  {
   "cell_type": "code",
   "execution_count": 10,
   "metadata": {},
   "outputs": [
    {
     "name": "stdout",
     "output_type": "stream",
     "text": [
      "3\n"
     ]
    }
   ],
   "source": [
    "print(tensor_three_d.ndim) # 3 d tensor"
   ]
  },
  {
   "cell_type": "code",
   "execution_count": 11,
   "metadata": {},
   "outputs": [
    {
     "name": "stdout",
     "output_type": "stream",
     "text": [
      "tf.Tensor(\n",
      "[[[[  1   2   3   4   5]\n",
      "   [  4   2   7   2   6]\n",
      "   [ 23   6   3   4  65]\n",
      "   [ 34   5   4 657 324]]\n",
      "\n",
      "  [[  1   2   3   4   5]\n",
      "   [  4   2   7   2   6]\n",
      "   [ 23   6   3   4  65]\n",
      "   [ 34  54  65   7 324]]\n",
      "\n",
      "  [[  1   2   3   4   5]\n",
      "   [  4   2   7   2   6]\n",
      "   [  2   3   6  34  65]\n",
      "   [ 34  54   6  57 324]]]\n",
      "\n",
      "\n",
      " [[[  1   2   3   4   5]\n",
      "   [  4   2   7   2   6]\n",
      "   [ 23   6   3   4  65]\n",
      "   [ 34  54 657   3  24]]\n",
      "\n",
      "  [[  1   2   3   4   5]\n",
      "   [  4   2   7   2   6]\n",
      "   [ 23   6  34   6   5]\n",
      "   [ 34  54 657   3  24]]\n",
      "\n",
      "  [[  1   2   3   4   5]\n",
      "   [  4   2   7   2   6]\n",
      "   [ 23   6  34  65   4]\n",
      "   [ 34  54 657   2 324]]]], shape=(2, 3, 4, 5), dtype=int32)\n"
     ]
    }
   ],
   "source": [
    "tensor_four_d = tf.constant([\n",
    "    [\n",
    "        [\n",
    "            [1,2,3,4,5],\n",
    "            [4,2,7,2,6],\n",
    "            [23,6,3,4,65],\n",
    "            [34,5,4,657,324]\n",
    "        ],\n",
    "        [\n",
    "            [1,2,3,4,5],\n",
    "            [4,2,7,2,6],\n",
    "            [23,6,3,4,65],\n",
    "            [34,54,65,7,324]\n",
    "        ],\n",
    "        [\n",
    "            [1,2,3,4,5],\n",
    "            [4,2,7,2,6],\n",
    "            [2,3,6,34,65],\n",
    "            [34,54,6,57,324]\n",
    "        ],\n",
    "    ],\n",
    "     [\n",
    "        [\n",
    "            [1,2,3,4,5],\n",
    "            [4,2,7,2,6],\n",
    "            [23,6,3,4,65],\n",
    "            [34,54,657,3,24]\n",
    "        ],\n",
    "        [\n",
    "            [1,2,3,4,5],\n",
    "            [4,2,7,2,6],\n",
    "            [23,6,34,6,5],\n",
    "            [34,54,657,3,24]\n",
    "        ],\n",
    "        [\n",
    "            [1,2,3,4,5],\n",
    "            [4,2,7,2,6],\n",
    "            [23,6,34,65,4],\n",
    "            [34,54,657,2,324]\n",
    "        ]\n",
    "    ]\n",
    "])\n",
    "print(tensor_four_d)"
   ]
  },
  {
   "cell_type": "code",
   "execution_count": 12,
   "metadata": {},
   "outputs": [],
   "source": [
    "tensor_one_d_32 = tf.constant([23,4,5,1], dtype=tf.float32) #pecision value is 32, if it is float16 then less memory is required to store it"
   ]
  },
  {
   "cell_type": "code",
   "execution_count": 13,
   "metadata": {},
   "outputs": [
    {
     "name": "stdout",
     "output_type": "stream",
     "text": [
      "tf.Tensor([23.  4.  5.  1.], shape=(4,), dtype=float32)\n"
     ]
    }
   ],
   "source": [
    "print(tensor_one_d_32)"
   ]
  },
  {
   "cell_type": "code",
   "execution_count": 14,
   "metadata": {},
   "outputs": [
    {
     "name": "stdout",
     "output_type": "stream",
     "text": [
      "tf.Tensor([ True  True  True], shape=(3,), dtype=bool)\n"
     ]
    }
   ],
   "source": [
    "casted_tensor_one_d = tf.cast(tensor_one_d , dtype=tf.bool)\n",
    "print(casted_tensor_one_d)"
   ]
  },
  {
   "cell_type": "code",
   "execution_count": 15,
   "metadata": {},
   "outputs": [
    {
     "name": "stdout",
     "output_type": "stream",
     "text": [
      "tf.Tensor([ True  True False  True], shape=(4,), dtype=bool)\n"
     ]
    }
   ],
   "source": [
    "tensor_bool = tf.constant([True, True, False, True])\n",
    "print(tensor_bool)"
   ]
  },
  {
   "cell_type": "code",
   "execution_count": 16,
   "metadata": {},
   "outputs": [
    {
     "name": "stdout",
     "output_type": "stream",
     "text": [
      "tf.Tensor([1 1 0 1], shape=(4,), dtype=int16)\n"
     ]
    }
   ],
   "source": [
    "cast_tensor_bool = tf.cast(tensor_bool , dtype=tf.int16)\n",
    "print(cast_tensor_bool)"
   ]
  },
  {
   "cell_type": "code",
   "execution_count": 17,
   "metadata": {},
   "outputs": [
    {
     "name": "stdout",
     "output_type": "stream",
     "text": [
      "tf.Tensor(b'Hello world', shape=(), dtype=string)\n"
     ]
    }
   ],
   "source": [
    "tensor_string = tf.constant(\"Hello world\")\n",
    "print(tensor_string)"
   ]
  },
  {
   "cell_type": "code",
   "execution_count": 18,
   "metadata": {},
   "outputs": [
    {
     "name": "stdout",
     "output_type": "stream",
     "text": [
      "tf.Tensor(\n",
      "[[[[b'hello World']\n",
      "   [b'hello World']\n",
      "   [b'hello World']]\n",
      "\n",
      "  [[b'hello World']\n",
      "   [b'hello World']\n",
      "   [b'hello World']]]\n",
      "\n",
      "\n",
      " [[[b'hello World']\n",
      "   [b'hello World']\n",
      "   [b'hello World']]\n",
      "\n",
      "  [[b'hello World']\n",
      "   [b'hello World']\n",
      "   [b'hello World']]]], shape=(2, 2, 3, 1), dtype=string)\n"
     ]
    }
   ],
   "source": [
    "#creating a four dimensional tensor of type string with dimension 2*2*3*1\n",
    "\n",
    "tensor_string_four_d = tf.constant([\n",
    "    [\n",
    "        [\n",
    "           [\"hello World\"],\n",
    "           [\"hello World\"],\n",
    "           [\"hello World\"] \n",
    "        ],\n",
    "        [\n",
    "            [\"hello World\"],\n",
    "            [\"hello World\"],\n",
    "            [\"hello World\"]\n",
    "        ]\n",
    "    ],\n",
    "    [\n",
    "         [\n",
    "            [\"hello World\"],\n",
    "            [\"hello World\"],\n",
    "            [\"hello World\"]\n",
    "         ],\n",
    "         [\n",
    "            [\"hello World\"],\n",
    "            [\"hello World\"],\n",
    "            [\"hello World\"]\n",
    "         ]\n",
    "    ]\n",
    "])\n",
    "print(tensor_string_four_d)"
   ]
  },
  {
   "cell_type": "code",
   "execution_count": 19,
   "metadata": {},
   "outputs": [],
   "source": [
    "import numpy as np \n"
   ]
  },
  {
   "cell_type": "code",
   "execution_count": 20,
   "metadata": {},
   "outputs": [
    {
     "name": "stdout",
     "output_type": "stream",
     "text": [
      "[1 2 3]\n"
     ]
    }
   ],
   "source": [
    "np_array = np.array([1,2,3])\n",
    "print(np_array)"
   ]
  },
  {
   "cell_type": "code",
   "execution_count": 21,
   "metadata": {},
   "outputs": [
    {
     "name": "stdout",
     "output_type": "stream",
     "text": [
      "(3,)\n"
     ]
    }
   ],
   "source": [
    "print(np_array.shape)"
   ]
  },
  {
   "cell_type": "code",
   "execution_count": 22,
   "metadata": {},
   "outputs": [
    {
     "name": "stdout",
     "output_type": "stream",
     "text": [
      "tf.Tensor([1 2 3], shape=(3,), dtype=int32)\n"
     ]
    }
   ],
   "source": [
    "#converting the numpy array into tensor\n",
    "converted_tensor = tf.convert_to_tensor(np_array)\n",
    "print(converted_tensor)"
   ]
  },
  {
   "cell_type": "code",
   "execution_count": 23,
   "metadata": {},
   "outputs": [
    {
     "name": "stdout",
     "output_type": "stream",
     "text": [
      "tf.Tensor(\n",
      "[[[[1. 0. 0. 0. 0.]\n",
      "   [0. 1. 0. 0. 0.]\n",
      "   [0. 0. 1. 0. 0.]\n",
      "   [0. 0. 0. 1. 0.]\n",
      "   [0. 0. 0. 0. 1.]]\n",
      "\n",
      "  [[1. 0. 0. 0. 0.]\n",
      "   [0. 1. 0. 0. 0.]\n",
      "   [0. 0. 1. 0. 0.]\n",
      "   [0. 0. 0. 1. 0.]\n",
      "   [0. 0. 0. 0. 1.]]]\n",
      "\n",
      "\n",
      " [[[1. 0. 0. 0. 0.]\n",
      "   [0. 1. 0. 0. 0.]\n",
      "   [0. 0. 1. 0. 0.]\n",
      "   [0. 0. 0. 1. 0.]\n",
      "   [0. 0. 0. 0. 1.]]\n",
      "\n",
      "  [[1. 0. 0. 0. 0.]\n",
      "   [0. 1. 0. 0. 0.]\n",
      "   [0. 0. 1. 0. 0.]\n",
      "   [0. 0. 0. 1. 0.]\n",
      "   [0. 0. 0. 0. 1.]]]], shape=(2, 2, 5, 5), dtype=float64)\n"
     ]
    }
   ],
   "source": [
    "#identity matrix\n",
    "\n",
    "eye_tensor = tf.eye(\n",
    "    num_rows=5,\n",
    "    num_columns=None, #when we define the number of columns as n then the number of columns automatically takes in the value of n\n",
    "    batch_shape=[2,2], #batch size determines the dimensions of the matrices if batch_shape = [2,] that is we want 2 5*5 identity matrices\n",
    "    dtype=tf.dtypes.float64,\n",
    "    name=None\n",
    ")\n",
    "print(eye_tensor)"
   ]
  },
  {
   "cell_type": "code",
   "execution_count": 24,
   "metadata": {},
   "outputs": [
    {
     "name": "stdout",
     "output_type": "stream",
     "text": [
      "tf.Tensor(\n",
      "[[[[9 9 9 9 9]\n",
      "   [9 9 9 9 9]\n",
      "   [9 9 9 9 9]\n",
      "   [9 9 9 9 9]\n",
      "   [9 9 9 9 9]]\n",
      "\n",
      "  [[9 9 9 9 9]\n",
      "   [9 9 9 9 9]\n",
      "   [9 9 9 9 9]\n",
      "   [9 9 9 9 9]\n",
      "   [9 9 9 9 9]]\n",
      "\n",
      "  [[9 9 9 9 9]\n",
      "   [9 9 9 9 9]\n",
      "   [9 9 9 9 9]\n",
      "   [9 9 9 9 9]\n",
      "   [9 9 9 9 9]]]\n",
      "\n",
      "\n",
      " [[[9 9 9 9 9]\n",
      "   [9 9 9 9 9]\n",
      "   [9 9 9 9 9]\n",
      "   [9 9 9 9 9]\n",
      "   [9 9 9 9 9]]\n",
      "\n",
      "  [[9 9 9 9 9]\n",
      "   [9 9 9 9 9]\n",
      "   [9 9 9 9 9]\n",
      "   [9 9 9 9 9]\n",
      "   [9 9 9 9 9]]\n",
      "\n",
      "  [[9 9 9 9 9]\n",
      "   [9 9 9 9 9]\n",
      "   [9 9 9 9 9]\n",
      "   [9 9 9 9 9]\n",
      "   [9 9 9 9 9]]]], shape=(2, 3, 5, 5), dtype=int32)\n"
     ]
    }
   ],
   "source": [
    "#the fill method creates a tensor filled with a scalar value\n",
    "tensor_nine = tf.fill([2,3,5,5],9)\n",
    "print(tensor_nine)"
   ]
  },
  {
   "cell_type": "code",
   "execution_count": 25,
   "metadata": {},
   "outputs": [
    {
     "name": "stdout",
     "output_type": "stream",
     "text": [
      "tf.Tensor(\n",
      "[[1. 1.]\n",
      " [1. 1.]], shape=(2, 2), dtype=float16)\n"
     ]
    }
   ],
   "source": [
    "#tf.ones() mehod creates a tensor with all elements set to one\n",
    "\n",
    "tensor_one = tf.ones(\n",
    "    shape=[2,2],\n",
    "    dtype=tf.float16,\n",
    "    name=None\n",
    ")\n",
    "\n",
    "print(tensor_one)"
   ]
  },
  {
   "cell_type": "code",
   "execution_count": 26,
   "metadata": {},
   "outputs": [
    {
     "name": "stdout",
     "output_type": "stream",
     "text": [
      "tf.Tensor(\n",
      "[[[[1 1 1 1 1]\n",
      "   [1 1 1 1 1]\n",
      "   [1 1 1 1 1]\n",
      "   [1 1 1 1 1]\n",
      "   [1 1 1 1 1]]\n",
      "\n",
      "  [[1 1 1 1 1]\n",
      "   [1 1 1 1 1]\n",
      "   [1 1 1 1 1]\n",
      "   [1 1 1 1 1]\n",
      "   [1 1 1 1 1]]\n",
      "\n",
      "  [[1 1 1 1 1]\n",
      "   [1 1 1 1 1]\n",
      "   [1 1 1 1 1]\n",
      "   [1 1 1 1 1]\n",
      "   [1 1 1 1 1]]]\n",
      "\n",
      "\n",
      " [[[1 1 1 1 1]\n",
      "   [1 1 1 1 1]\n",
      "   [1 1 1 1 1]\n",
      "   [1 1 1 1 1]\n",
      "   [1 1 1 1 1]]\n",
      "\n",
      "  [[1 1 1 1 1]\n",
      "   [1 1 1 1 1]\n",
      "   [1 1 1 1 1]\n",
      "   [1 1 1 1 1]\n",
      "   [1 1 1 1 1]]\n",
      "\n",
      "  [[1 1 1 1 1]\n",
      "   [1 1 1 1 1]\n",
      "   [1 1 1 1 1]\n",
      "   [1 1 1 1 1]\n",
      "   [1 1 1 1 1]]]], shape=(2, 3, 5, 5), dtype=int16)\n"
     ]
    }
   ],
   "source": [
    "#the method tf.ones_like() : - creates a tensor of all ones that has the same shape as the input\n",
    "\n",
    "#it will create the same array (same dimension) as the input array that is passed to it with all its values set to 1\n",
    "\n",
    "ones_like_tensor = tf.ones_like(\n",
    "    tensor_nine , dtype=tf.int16 , name=None\n",
    ")\n",
    "\n",
    "print(ones_like_tensor)\n",
    "\n"
   ]
  },
  {
   "cell_type": "code",
   "execution_count": 27,
   "metadata": {},
   "outputs": [
    {
     "name": "stdout",
     "output_type": "stream",
     "text": [
      "tf.Tensor(\n",
      "[[0. 0.]\n",
      " [0. 0.]\n",
      " [0. 0.]], shape=(3, 2), dtype=float32)\n"
     ]
    }
   ],
   "source": [
    "#tf.zeros method creates a tensor with all elements set to zero\n",
    "\n",
    "zeros_tensor = tf.zeros(\n",
    "    [3,2],\n",
    "    dtype=tf.float32,\n",
    "    name=None\n",
    ")\n",
    "\n",
    "print(zeros_tensor)"
   ]
  },
  {
   "cell_type": "code",
   "execution_count": 28,
   "metadata": {},
   "outputs": [
    {
     "name": "stdout",
     "output_type": "stream",
     "text": [
      "tf.Tensor([2 4 3], shape=(3,), dtype=int32)\n"
     ]
    }
   ],
   "source": [
    "print(tf.shape(tensor_three_d)) #prints the shape of the tensor tensor_three_d as a list"
   ]
  },
  {
   "cell_type": "code",
   "execution_count": 29,
   "metadata": {},
   "outputs": [
    {
     "name": "stdout",
     "output_type": "stream",
     "text": [
      "tf.Tensor(2, shape=(), dtype=int32)\n"
     ]
    }
   ],
   "source": [
    "#the rank method returns the rank of a tensor\n",
    "\n",
    "rank_two_d_tensor = tf.rank(\n",
    "    tensor_two_d , name=None\n",
    ")\n",
    "\n",
    "print(rank_two_d_tensor)"
   ]
  },
  {
   "cell_type": "code",
   "execution_count": 30,
   "metadata": {},
   "outputs": [
    {
     "name": "stdout",
     "output_type": "stream",
     "text": [
      "(2, 4, 3)\n",
      "tf.Tensor(24, shape=(), dtype=int16)\n"
     ]
    }
   ],
   "source": [
    "#the size method returns the size of a tensor\n",
    "\n",
    "size_of_three_d_tensor = tf.size(\n",
    "    tensor_three_d,\n",
    "    out_type=tf.dtypes.int16,\n",
    "    name=None\n",
    ")\n",
    "print(tensor_three_d.shape)\n",
    "print(size_of_three_d_tensor)"
   ]
  },
  {
   "cell_type": "code",
   "execution_count": 31,
   "metadata": {},
   "outputs": [
    {
     "name": "stdout",
     "output_type": "stream",
     "text": [
      "tf.Tensor(\n",
      "[[ 0.08374226 -0.48720312]\n",
      " [ 3.8012617   4.6803055 ]\n",
      " [ 0.33665943 -2.0321107 ]], shape=(3, 2), dtype=float32)\n"
     ]
    }
   ],
   "source": [
    "random_tensor = tf.random.normal(\n",
    "    [3,2],\n",
    "    mean=2.0,\n",
    "    stddev=1.9,\n",
    "    dtype=tf.dtypes.float32,\n",
    "    seed=None,\n",
    "    name=None\n",
    ")\n",
    "\n",
    "print(random_tensor)\n",
    "\n"
   ]
  },
  {
   "cell_type": "code",
   "execution_count": 34,
   "metadata": {},
   "outputs": [
    {
     "name": "stdout",
     "output_type": "stream",
     "text": [
      "tf.Tensor(\n",
      "[[0.05392599 0.09943587 0.09393115]\n",
      " [0.09624134 0.0962387  0.06352568]\n",
      " [0.06629221 0.09186981 0.09268007]], shape=(3, 3), dtype=float32)\n"
     ]
    }
   ],
   "source": [
    "#generating random normals from uniform distribution\n",
    "\n",
    "#tf.random.uniform : outputs random values from a uniform distribution\n",
    "\n",
    "uniform_tensor = tf.random.uniform(\n",
    "    [3,3],\n",
    "    minval=0.05,\n",
    "    maxval=0.1, #maxval if set to None then it defaults to 1\n",
    "    dtype=tf.dtypes.float32,\n",
    "    seed=None,\n",
    "    name=None\n",
    ")\n",
    "\n",
    "print(uniform_tensor)"
   ]
  },
  {
   "cell_type": "code",
   "execution_count": 33,
   "metadata": {},
   "outputs": [],
   "source": [
    "#seed argument\n",
    "\n",
    "#A Python integer. Usedin combination with tf.random.set_seed to create a reproducible sequence of tensors across multiple calls"
   ]
  },
  {
   "cell_type": "code",
   "execution_count": 44,
   "metadata": {},
   "outputs": [
    {
     "name": "stdout",
     "output_type": "stream",
     "text": [
      "tf.Tensor([4 3 1], shape=(3,), dtype=int32)\n",
      "tf.Tensor([4 3 2], shape=(3,), dtype=int32)\n",
      "tf.Tensor([1 1 1], shape=(3,), dtype=int32)\n",
      "tf.Tensor([1 3 3], shape=(3,), dtype=int32)\n"
     ]
    }
   ],
   "source": [
    "tf.random.set_seed(5) #when we use this we will have exact same output every time we run it\n",
    "\n",
    "print(tf.random.uniform(shape=[3,], maxval=5, dtype=tf.int32, seed=10))\n",
    "print(tf.random.uniform(shape=[3,], maxval=5, dtype=tf.int32, seed=10))\n",
    "print(tf.random.uniform(shape=[3,], maxval=5, dtype=tf.int32, seed=10))\n",
    "print(tf.random.uniform(shape=[3,], maxval=5, dtype=tf.int32, seed=10))"
   ]
  },
  {
   "cell_type": "code",
   "execution_count": 50,
   "metadata": {},
   "outputs": [
    {
     "name": "stdout",
     "output_type": "stream",
     "text": [
      "tf.Tensor([1 2 3 4 5 6], shape=(6,), dtype=int32)\n",
      "tf.Tensor([1 2 3 4], shape=(4,), dtype=int32)\n",
      "tf.Tensor([3 4 5 6], shape=(4,), dtype=int32)\n",
      "tf.Tensor([1 3 5], shape=(3,), dtype=int32)\n",
      "tf.Tensor([1 2 3 4 5 6], shape=(6,), dtype=int32)\n",
      "tf.Tensor([3 4 5 6], shape=(4,), dtype=int32)\n"
     ]
    }
   ],
   "source": [
    "tensor_indexed = tf.constant([1,2,3,4,5,6])\n",
    "print(tensor_indexed)\n",
    "print(tensor_indexed[0:4]) #here the last index is not included and the first index is included\n",
    "print(tensor_indexed[2:6])\n",
    "\n",
    "print(tensor_indexed[0:6:2]) #the last argument is the steps (skip by 2), by default it is 1\n",
    "print(tensor_indexed[:6]) #all elements from 0 to 5\n",
    "print(tensor_indexed[2:]) #all elemenst from the index 2 to 5 "
   ]
  },
  {
   "cell_type": "code",
   "execution_count": 59,
   "metadata": {},
   "outputs": [
    {
     "name": "stdout",
     "output_type": "stream",
     "text": [
      "tf.Tensor(\n",
      "[[1 2]\n",
      " [5 6]\n",
      " [4 2]], shape=(3, 2), dtype=int32)\n",
      "tf.Tensor(\n",
      "[[1 2 3]\n",
      " [5 6 7]\n",
      " [4 2 4]], shape=(3, 3), dtype=int32)\n",
      "tf.Tensor([4 2 4], shape=(3,), dtype=int32)\n",
      "tf.Tensor(32, shape=(), dtype=int32)\n",
      "tf.Tensor([1 5 4 6], shape=(4,), dtype=int32)\n",
      "tf.Tensor([1 5 4], shape=(3,), dtype=int32)\n",
      "tf.Tensor([ 2  6  2 32], shape=(4,), dtype=int32)\n"
     ]
    }
   ],
   "source": [
    "#indexing in 2d tensors\n",
    "\n",
    "tensor_index_two_d = tf.constant([\n",
    "    [1,2,3],\n",
    "    [5,6,7],\n",
    "    [4,2,4],\n",
    "    [6,32,6]\n",
    "])\n",
    "#getting the first 3 rows and get the first 2 columns\n",
    "\n",
    "print(tensor_index_two_d[0:3 , 0:2]) #the first argument is 0:3 that is go from 0th row to 2nd row , the second argument is for columns that is go from 0th column to 1st coulumn\n",
    "\n",
    "#getting the first 3 rows and all the columns\n",
    "print(tensor_index_two_d[0:3 ,:])\n",
    "#getting just the 3rd row (2nd index)\n",
    "print(tensor_index_two_d[2,:])\n",
    "\n",
    "#getting the 2nd element in the row 4\n",
    "\n",
    "print(tensor_index_two_d[3,1])\n",
    "\n",
    "#getting the 0th column\n",
    "print(tensor_index_two_d[:, 0])\n",
    "\n",
    "#getting the first elements till the 3rd row\n",
    "print(tensor_index_two_d[0:3, 0])\n",
    "\n",
    "#get all the elements present in the 2nd row\n",
    "print(tensor_index_two_d[:,1]) # or print(tensor_index_two_d[...,1])"
   ]
  },
  {
   "cell_type": "code",
   "execution_count": 66,
   "metadata": {},
   "outputs": [
    {
     "name": "stdout",
     "output_type": "stream",
     "text": [
      "tf.Tensor([45  2  4], shape=(3,), dtype=int32)\n",
      "tf.Tensor(\n",
      "[[100  21   3]\n",
      " [ 23  62   7]\n",
      " [ 44   6  44]\n",
      " [  6  32  61]], shape=(4, 3), dtype=int32)\n",
      "tf.Tensor([ 27  26 462  32], shape=(4,), dtype=int32)\n",
      "tf.Tensor([ 3  7  4 62], shape=(4,), dtype=int32)\n",
      "tf.Tensor(\n",
      "[[[ 15   2  23]\n",
      "  [467 246   7]\n",
      "  [  4   2   4]\n",
      "  [ 66  32   6]]\n",
      "\n",
      " [[ 12  27  30]\n",
      "  [ 67  26   7]\n",
      "  [ 45 462 467]\n",
      "  [  6  32  36]]], shape=(2, 4, 3), dtype=int32)\n",
      "tf.Tensor(\n",
      "[[ 3  7 44 61]\n",
      " [ 3  7  4 62]], shape=(2, 4), dtype=int32)\n"
     ]
    }
   ],
   "source": [
    "#indexing in 3d tensor\n",
    "\n",
    "tensor_index_three_d = tf.constant([\n",
    "    [\n",
    "        [100,21,3],\n",
    "        [23,62,7],\n",
    "        [44,6,44],\n",
    "        [6,32,61]\n",
    "    ],\n",
    "    [\n",
    "        [18,2,3],\n",
    "        [52,6,7],\n",
    "        [45,2,4],\n",
    "        [65,32,62]\n",
    "    ],\n",
    "    [\n",
    "        [15,2,23],\n",
    "        [467,246,7],\n",
    "        [4,2,4],\n",
    "        [66,32,6]\n",
    "    ],\n",
    "    [\n",
    "        [12,27,30],\n",
    "        [67,26,7],\n",
    "        [45,462,467],\n",
    "        [6,32,36]\n",
    "    ]\n",
    "])\n",
    "#get the 3rd row of the 2nd matrix\n",
    "print(tensor_index_three_d[1,2,:])\n",
    "#get the first matrix\n",
    "print(tensor_index_three_d[0,:,:])\n",
    "#get the 2nd column of the 4th matrix\n",
    "print(tensor_index_three_d[3,:,1])\n",
    "#get the last column of the 2nd matrix\n",
    "print(tensor_index_three_d[1,:,-1])\n",
    "\n",
    "#get the last 2 matrices\n",
    "print(tensor_index_three_d[2:4,:,:])\n",
    "\n",
    "#get the last columns of the first 2 matrices\n",
    "print(tensor_index_three_d[0:2,:,2])"
   ]
  },
  {
   "cell_type": "code",
   "execution_count": 67,
   "metadata": {},
   "outputs": [
    {
     "name": "stdout",
     "output_type": "stream",
     "text": [
      "tf.Tensor([  2.23   4.23 100.45], shape=(3,), dtype=float32)\n"
     ]
    }
   ],
   "source": [
    "#math functions in tensorflow\n",
    "#tf.math.abs computes the absolute value of a tensor\n",
    "\n",
    "x_abs = tf.constant([-2.23,4.23,-100.45])\n",
    "print(tf.math.abs(x_abs))"
   ]
  },
  {
   "cell_type": "code",
   "execution_count": 68,
   "metadata": {},
   "outputs": [
    {
     "name": "stdout",
     "output_type": "stream",
     "text": [
      "tf.Tensor(\n",
      "[[  5.25594901]\n",
      " [323.27594312]], shape=(2, 1), dtype=float64)\n"
     ]
    }
   ],
   "source": [
    "#finding the absoulute value of a complex tensor\n",
    "\n",
    "x_complex = tf.constant(\n",
    "    [\n",
    "        [-2.25 +4.75j],\n",
    "        [-323.23 +5.45j]\n",
    "    ]\n",
    ")\n",
    "\n",
    "print(tf.math.abs(x_complex))"
   ]
  },
  {
   "cell_type": "code",
   "execution_count": 78,
   "metadata": {},
   "outputs": [
    {
     "data": {
      "text/plain": [
       "<tf.Tensor: shape=(), dtype=float32, numpy=4.0>"
      ]
     },
     "execution_count": 78,
     "metadata": {},
     "output_type": "execute_result"
    }
   ],
   "source": [
    "tf.sqrt(16.) #it only accepts float32 values"
   ]
  },
  {
   "cell_type": "code",
   "execution_count": 87,
   "metadata": {},
   "outputs": [
    {
     "name": "stdout",
     "output_type": "stream",
     "text": [
      "tf.Tensor([ 3  2 10 12], shape=(4,), dtype=int16)\n",
      "tf.Tensor([ 2  0 21 32], shape=(4,), dtype=int16)\n",
      "tf.Tensor([-1  2 -4 -4], shape=(4,), dtype=int16)\n",
      "tf.Tensor([0.5               inf 0.42857143 0.5       ], shape=(4,), dtype=float32)\n",
      "tf.Tensor([0.5        0.         0.42857143 0.5       ], shape=(4,), dtype=float32)\n",
      "tf.Tensor([ 8  9 10 11], shape=(4,), dtype=int16)\n"
     ]
    }
   ],
   "source": [
    "x_1 = tf.constant([1,2,3,4], dtype=tf.int16)\n",
    "x_2 = tf.constant([2,0,7,8], dtype=tf.int16)\n",
    "x_3 = tf.constant([7], dtype=tf.int16)\n",
    "#element by element wise operation\n",
    "print(tf.add(x_1 , x_2))\n",
    "print(tf.multiply(x_1 , x_2)) \n",
    "print(tf.subtract(x_1,x_2))\n",
    "print(tf.divide(x_1, x_2))\n",
    "print(tf.math.divide_no_nan(x_1, x_2)) #the output where it is inf or inifinity , by using this it will give you 0 instead of infinity\n",
    "print(tf.add(x_1 , x_3)) #here 7 adds to all the elements in the array , this is broadcasting , here the smaller tensor is stretched out to match the shape of the bigger tensor so that the operation can be carried out\n"
   ]
  },
  {
   "cell_type": "code",
   "execution_count": 90,
   "metadata": {},
   "outputs": [
    {
     "name": "stdout",
     "output_type": "stream",
     "text": [
      "(4, 3)\n",
      "(4, 1)\n",
      "tf.Tensor(\n",
      "[[   1    2    3]\n",
      " [  24   48   24]\n",
      " [  24   48   12]\n",
      " [1288 1035   23]], shape=(4, 3), dtype=int32)\n"
     ]
    }
   ],
   "source": [
    "#matrix multiplication\n",
    "m_1 = tf.constant([\n",
    "    [1,2,3],\n",
    "    [2,4,2],\n",
    "    [2,4,1],\n",
    "    [56,45,1]\n",
    "])\n",
    "print(m_1.shape)\n",
    "\n",
    "m_2 = tf.constant([\n",
    "    [1],\n",
    "    [12],\n",
    "    [12],\n",
    "    [23]\n",
    "])\n",
    "\n",
    "\n",
    "print(m_2.shape)\n",
    "\n",
    "m_res = tf.multiply(m_1, m_2)\n",
    "print(m_res)"
   ]
  },
  {
   "cell_type": "code",
   "execution_count": 93,
   "metadata": {},
   "outputs": [
    {
     "name": "stdout",
     "output_type": "stream",
     "text": [
      "tf.Tensor([2 2 7 8], shape=(4,), dtype=int16)\n",
      "tf.Tensor([1 0 3 4], shape=(4,), dtype=int16)\n"
     ]
    }
   ],
   "source": [
    "#tf.math.maximum returns the maximum of 2 tensors , element wise\n",
    "#tf.math.minimum returns the minimum of 2 tensors , element wise\n",
    "\n",
    "print(tf.math.maximum(x_1 , x_2))\n",
    "print(tf.math.minimum(x_1, x_2))\n",
    "\n",
    "#it also supports the broadcast semantics for x_1 and x_2\n"
   ]
  },
  {
   "cell_type": "code",
   "execution_count": 95,
   "metadata": {},
   "outputs": [
    {
     "name": "stdout",
     "output_type": "stream",
     "text": [
      "tf.Tensor(4, shape=(), dtype=int64)\n",
      "tf.Tensor(0, shape=(), dtype=int64)\n"
     ]
    }
   ],
   "source": [
    "#tf.math.argmax returns the index with the largest value across axes of a tensor\n",
    "#tf.math.argmin returns the index with the smallest value across axes of a tensor\n",
    "x_argmax = tf.constant([1,2,3,4,56,31])\n",
    "print(tf.math.argmax(x_argmax))\n",
    "print(tf.math.argmin(x_argmax))"
   ]
  },
  {
   "cell_type": "code",
   "execution_count": 98,
   "metadata": {},
   "outputs": [
    {
     "name": "stdout",
     "output_type": "stream",
     "text": [
      "tf.Tensor([1 3 1 0], shape=(4,), dtype=int64)\n",
      "tf.Tensor([3 1 0 1], shape=(4,), dtype=int64)\n"
     ]
    }
   ],
   "source": [
    "x_multidimensional = tf.constant([\n",
    "    [23,453,213,456],\n",
    "    [374,724,456,324],\n",
    "    [345,6,35,67],\n",
    "    [34,5467,12,453]\n",
    "])\n",
    "\n",
    "x_argmax_multi = tf.argmax(x_multidimensional , axis=0)\n",
    "print(x_argmax_multi) \n",
    "#the output is [1,3,1,0] it means in column 1 the maximum element is in index 1 (here it is 374), in column 2 the largest element is in index 3 and so on\n",
    "\n",
    "print(tf.argmax(x_multidimensional,axis=1)) #here we have specified the axis as 1 that means the array returned here [3,1,0,1] conveys that the maximum element present in row 1 is in index 3 (456) , in row 2 the maximum element is present in index 1 (724) ans so on\n",
    "\n",
    "#same can be done for argmin"
   ]
  },
  {
   "cell_type": "code",
   "execution_count": 100,
   "metadata": {},
   "outputs": [
    {
     "name": "stdout",
     "output_type": "stream",
     "text": [
      "tf.Tensor([ True False  True  True], shape=(4,), dtype=bool)\n",
      "tf.Tensor([ True False False False], shape=(4,), dtype=bool)\n"
     ]
    }
   ],
   "source": [
    "#tf.math.equal is the method used to compare two tensors , it returns a boolean tensor for element wise comparision results\n",
    "\n",
    "x = tf.constant([2,4,3,5])\n",
    "y = tf.constant([2,7,3,5])\n",
    "z = tf.constant([2])\n",
    "\n",
    "x_t_cmp = tf.math.equal(x,y)\n",
    "print(x_t_cmp)\n",
    "print(tf.math.equal(x,z)) #broadcasting"
   ]
  },
  {
   "cell_type": "code",
   "execution_count": 102,
   "metadata": {},
   "outputs": [
    {
     "name": "stdout",
     "output_type": "stream",
     "text": [
      "tf.Tensor(\n",
      "[[8 4]\n",
      " [1 1]], shape=(2, 2), dtype=int32)\n"
     ]
    },
    {
     "data": {
      "text/plain": [
       "<tf.Tensor: shape=(), dtype=int32, numpy=16>"
      ]
     },
     "execution_count": 102,
     "metadata": {},
     "output_type": "execute_result"
    }
   ],
   "source": [
    "x = tf.constant([[2,4],[23,23]])\n",
    "y = tf.constant([[3,1],[0,0]])\n",
    "print(tf.math.pow(x,y))\n",
    "tf.pow(tf.constant(4), tf.constant(2))"
   ]
  },
  {
   "cell_type": "code",
   "execution_count": 122,
   "metadata": {},
   "outputs": [
    {
     "name": "stdout",
     "output_type": "stream",
     "text": [
      "tf.Tensor(55.0, shape=(), dtype=float32)\n",
      "tf.Tensor([12. 25. 18.], shape=(3,), dtype=float32)\n",
      "tf.Tensor([ 6. 25. 24.], shape=(3,), dtype=float32)\n",
      "tf.Tensor(\n",
      "[[ 6.]\n",
      " [25.]\n",
      " [24.]], shape=(3, 1), dtype=float32)\n",
      "tf.Tensor([12. 25. 18.], shape=(3,), dtype=float32)\n",
      "tf.Tensor(15.0, shape=(), dtype=float32)\n",
      "tf.Tensor(\n",
      "[[ 3.]\n",
      " [15.]\n",
      " [ 9.]], shape=(3, 1), dtype=float32)\n",
      "tf.Tensor(6.111111, shape=(), dtype=float32)\n",
      "tf.Tensor([[4.       8.333333 6.      ]], shape=(1, 3), dtype=float32)\n",
      "tf.Tensor(\n",
      "[[2.      ]\n",
      " [8.333333]\n",
      " [8.      ]], shape=(3, 1), dtype=float32)\n"
     ]
    }
   ],
   "source": [
    "tensor_two_d = tf.constant([\n",
    "    [1,2,3],\n",
    "    [4,15,6],\n",
    "    [7,8,9]\n",
    "], dtype=tf.float32)\n",
    " #summing the element present in the axis\n",
    "print(tf.math.reduce_sum(tensor_two_d , axis=None , keepdims= False, name=None))\n",
    "print(tf.math.reduce_sum(tensor_two_d , axis=0 , keepdims= False, name=None))\n",
    "print(tf.math.reduce_sum(tensor_two_d , axis=1 , keepdims= False, name=None))\n",
    "print(tf.math.reduce_sum(tensor_two_d , axis=1 , keepdims= True, name=None))\n",
    "print(tf.math.reduce_sum(tensor_two_d , axis=0 , keepdims= False, name=None))\n",
    "\n",
    "#getting the maximum element\n",
    "print(tf.math.reduce_max(tensor_two_d , axis=None , keepdims= False, name=None))\n",
    "print(tf.math.reduce_max(tensor_two_d , axis=1 , keepdims= True, name=None))\n",
    "#similarly the min element \n",
    "\n",
    "#finding the mean value across the axis\n",
    "print(tf.math.reduce_mean(tensor_two_d , axis=None , keepdims=False, name=None))\n",
    "print(tf.math.reduce_mean(tensor_two_d , axis= 0 , keepdims=True, name=None))\n",
    "print(tf.math.reduce_mean(tensor_two_d , axis=1 , keepdims=True, name=None))\n",
    "\n",
    "#similarly we have standard deviation , reduce_any etc ->tensorflow documentation"
   ]
  },
  {
   "cell_type": "code",
   "execution_count": 127,
   "metadata": {},
   "outputs": [
    {
     "data": {
      "text/plain": [
       "TopKV2(values=<tf.Tensor: shape=(3, 2), dtype=float32, numpy=\n",
       "array([[ 3.,  2.],\n",
       "       [15.,  6.],\n",
       "       [ 9.,  8.]], dtype=float32)>, indices=<tf.Tensor: shape=(3, 2), dtype=int32, numpy=\n",
       "array([[2, 1],\n",
       "       [1, 2],\n",
       "       [2, 1]])>)"
      ]
     },
     "execution_count": 127,
     "metadata": {},
     "output_type": "execute_result"
    }
   ],
   "source": [
    "#the top values \n",
    "tf.math.top_k(tensor_two_d, k=2)"
   ]
  },
  {
   "cell_type": "code",
   "execution_count": 128,
   "metadata": {},
   "outputs": [
    {
     "name": "stdout",
     "output_type": "stream",
     "text": [
      "tf.Tensor(\n",
      "[[21 21]\n",
      " [32 34]\n",
      " [43 47]], shape=(3, 2), dtype=int32)\n"
     ]
    }
   ],
   "source": [
    "#LINEAR ALGEBRA OPERATIONS\n",
    "#tf.linalg.matmul \n",
    "#this is actual matrix multiplication (row by column) \n",
    "#multiplies matrix a by matrix b producing a*b\n",
    "\n",
    "mat_1 = tf.constant([\n",
    "    [1,2,3],\n",
    "    [2,3,4],\n",
    "    [3,4,5]\n",
    "])\n",
    "\n",
    "mat_2 = tf.constant([\n",
    "    [4,5],\n",
    "    [4,8],\n",
    "    [3,0]\n",
    "])\n",
    "\n",
    "product_mat = tf.linalg.matmul(\n",
    "    mat_1, mat_2 , transpose_a=False , transpose_b=False , adjoint_a=False , adjoint_b=False, a_is_sparse= False , b_is_sparse=False , output_type=None , name = None\n",
    ")\n",
    "print(product_mat)"
   ]
  },
  {
   "cell_type": "code",
   "execution_count": 129,
   "metadata": {},
   "outputs": [
    {
     "name": "stdout",
     "output_type": "stream",
     "text": [
      "tf.Tensor(\n",
      "[[21 21]\n",
      " [32 34]\n",
      " [43 47]], shape=(3, 2), dtype=int32)\n"
     ]
    }
   ],
   "source": [
    "#another way of multiplying two matrices\n",
    "\n",
    "print(mat_1 @ mat_2)"
   ]
  },
  {
   "cell_type": "code",
   "execution_count": 131,
   "metadata": {},
   "outputs": [
    {
     "data": {
      "text/plain": [
       "<tf.Tensor: shape=(3, 3), dtype=int32, numpy=\n",
       "array([[1, 2, 3],\n",
       "       [2, 3, 4],\n",
       "       [3, 4, 5]])>"
      ]
     },
     "execution_count": 131,
     "metadata": {},
     "output_type": "execute_result"
    }
   ],
   "source": [
    "#transpose of a matrix\n",
    "tf.transpose(mat_1)"
   ]
  },
  {
   "cell_type": "code",
   "execution_count": 134,
   "metadata": {},
   "outputs": [
    {
     "name": "stdout",
     "output_type": "stream",
     "text": [
      "tf.Tensor(\n",
      "[[[1044 2784 3741]\n",
      "  [1044 2784 3741]\n",
      "  [1044 2784 3741]]\n",
      "\n",
      " [[1044 2784 3741]\n",
      "  [1044 2784 3741]\n",
      "  [1044 2784 3741]]\n",
      "\n",
      " [[1044 2784 3741]\n",
      "  [1044 2784 3741]\n",
      "  [1044 2784 3741]]], shape=(3, 3, 3), dtype=int32)\n"
     ]
    }
   ],
   "source": [
    "#in case of 3d matrices\n",
    "x_1 = tf.constant([\n",
    "    [\n",
    "        [12,32,43],\n",
    "        [12,32,43],\n",
    "        [12,32,43]\n",
    "    ],\n",
    "    [\n",
    "        [12,32,43],\n",
    "        [12,32,43],\n",
    "        [12,32,43]\n",
    "    ],\n",
    "    [\n",
    "        [12,32,43],\n",
    "        [12,32,43],\n",
    "        [12,32,43]\n",
    "    ]\n",
    "])\n",
    "\n",
    "x_2 = tf.constant([\n",
    "        [\n",
    "            [12,32,43],\n",
    "            [12,32,43],\n",
    "            [12,32,43]\n",
    "        ],\n",
    "        [\n",
    "            [12,32,43],\n",
    "            [12,32,43],\n",
    "            [12,32,43]\n",
    "        ],\n",
    "        [\n",
    "            [12,32,43],\n",
    "            [12,32,43],\n",
    "            [12,32,43]\n",
    "        ]\n",
    "    \n",
    "    ])\n",
    "print(x_1 @ x_2)"
   ]
  },
  {
   "cell_type": "code",
   "execution_count": 135,
   "metadata": {},
   "outputs": [],
   "source": [
    "#optimising calculation for tensors which are mostly zeros : -- sparse tensors"
   ]
  },
  {
   "cell_type": "code",
   "execution_count": 138,
   "metadata": {},
   "outputs": [
    {
     "name": "stdout",
     "output_type": "stream",
     "text": [
      "tf.Tensor(\n",
      "[[-0.58333343 -0.0833334   0.33333334]\n",
      " [-2.3333333   0.6666667   0.3333333 ]\n",
      " [ 2.0833333  -0.41666666 -0.3333333 ]], shape=(3, 3), dtype=float32)\n"
     ]
    }
   ],
   "source": [
    "#function to find the inverse of a tensor (a matrix)\n",
    "\n",
    "tensor_two_d = tf.constant([\n",
    "    [1,2,3],\n",
    "    [1,6,7],\n",
    "    [5,5,7]\n",
    "], dtype=tf.float32)\n",
    "\n",
    "tensor_two_d_inv = tf.linalg.inv(tensor_two_d)\n",
    "print(tensor_two_d_inv)"
   ]
  },
  {
   "cell_type": "code",
   "execution_count": 139,
   "metadata": {},
   "outputs": [
    {
     "name": "stdout",
     "output_type": "stream",
     "text": [
      "tf.Tensor(\n",
      "[[ 9.9999988e-01 -5.0663948e-07 -5.6624413e-07]\n",
      " [ 5.9604645e-08  1.0000002e+00 -5.9604645e-08]\n",
      " [ 5.9604645e-08 -5.9604645e-08  1.0000002e+00]], shape=(3, 3), dtype=float32)\n"
     ]
    }
   ],
   "source": [
    "#mutipying the matrix with its inverse , results in a indentity matrix\n",
    "\n",
    "print(tensor_two_d_inv @ tensor_two_d)"
   ]
  },
  {
   "cell_type": "code",
   "execution_count": 140,
   "metadata": {},
   "outputs": [
    {
     "data": {
      "text/plain": [
       "(<tf.Tensor: shape=(3,), dtype=float32, numpy=array([13.806951  ,  2.8769662 ,  0.30209848], dtype=float32)>,\n",
       " <tf.Tensor: shape=(3, 3), dtype=float32, numpy=\n",
       " array([[ 0.2699263 , -0.05626307, -0.9612356 ],\n",
       "        [ 0.6546088 , -0.7213813 ,  0.22604561],\n",
       "        [ 0.7061355 ,  0.6902489 ,  0.15788949]], dtype=float32)>,\n",
       " <tf.Tensor: shape=(3, 3), dtype=float32, numpy=\n",
       " array([[ 0.322679  ,  0.9293122 ,  0.17960182],\n",
       "        [ 0.5792868 , -0.3439628 ,  0.73899686],\n",
       "        [ 0.7485352 , -0.13441783, -0.64932793]], dtype=float32)>)"
      ]
     },
     "execution_count": 140,
     "metadata": {},
     "output_type": "execute_result"
    }
   ],
   "source": [
    "s,u,v = tf.linalg.svd(tensor_two_d) "
   ]
  },
  {
   "cell_type": "code",
   "execution_count": 141,
   "metadata": {},
   "outputs": [],
   "source": [
    "#numpy matrix operation\n",
    "\n",
    "import numpy as np "
   ]
  },
  {
   "cell_type": "code",
   "execution_count": 142,
   "metadata": {},
   "outputs": [
    {
     "name": "stdout",
     "output_type": "stream",
     "text": [
      "[[ 713   74   16]\n",
      " [1421  141   29]\n",
      " [ 732   94   37]]\n"
     ]
    }
   ],
   "source": [
    "A = np.array([\n",
    "    [1,2,3],\n",
    "    [1,4,6],\n",
    "    [3,5,3]\n",
    "])\n",
    "\n",
    "B = np.array([\n",
    "    [5,7,3],\n",
    "    [3,2,5],\n",
    "    [234,21,1]\n",
    "])\n",
    "\n",
    "C = np.matmul(A,B)\n",
    "print(C)"
   ]
  },
  {
   "cell_type": "code",
   "execution_count": 144,
   "metadata": {},
   "outputs": [
    {
     "name": "stdout",
     "output_type": "stream",
     "text": [
      "Eninsum C =: \n",
      "\n",
      "[[ 713   74   16]\n",
      " [1421  141   29]\n",
      " [ 732   94   37]]\n"
     ]
    }
   ],
   "source": [
    "print(\"Eninsum C =: \\n\")\n",
    "print(np.einsum(\"ij,jk -> ik\", A,B))"
   ]
  },
  {
   "cell_type": "code",
   "execution_count": 147,
   "metadata": {},
   "outputs": [
    {
     "name": "stdout",
     "output_type": "stream",
     "text": [
      "(3, 3)\n",
      "(3, 3)\n",
      "Hardamond C =: \n",
      "\n",
      "[[  5  14   9]\n",
      " [  3   8  30]\n",
      " [702 105   3]]\n",
      "Enisum C =: \n",
      "\n",
      "[[  5  14   9]\n",
      " [  3   8  30]\n",
      " [702 105   3]]\n"
     ]
    }
   ],
   "source": [
    "#for element wise multiplication\n",
    "\n",
    "print(A.shape)\n",
    "print(B.shape)\n",
    "#the shape of the matrices must be same for element wise multiplication\n",
    "\n",
    "print(\"Hardamond C =: \\n\")\n",
    "print(A*B)\n",
    "\n",
    "print(\"Enisum C =: \\n\")\n",
    "print(np.einsum ('ij, ij -> ij', A,B))\n",
    "\n"
   ]
  },
  {
   "cell_type": "code",
   "execution_count": 149,
   "metadata": {},
   "outputs": [
    {
     "name": "stdout",
     "output_type": "stream",
     "text": [
      "[[1 2 3]\n",
      " [1 4 6]\n",
      " [3 5 3]]\n",
      "The transpose of the matrix is :\n",
      "Einsum Transpose A =: \n",
      "\n",
      "[[1 1 3]\n",
      " [2 4 5]\n",
      " [3 6 3]]\n"
     ]
    }
   ],
   "source": [
    "#transpose of a matrix\n",
    "\n",
    "print(A)\n",
    "print(\"The transpose of the matrix is :\")\n",
    "print(\"Einsum Transpose A =: \\n\")\n",
    "print(np.einsum(\"ij -> ji\", A))"
   ]
  },
  {
   "cell_type": "code",
   "execution_count": 151,
   "metadata": {},
   "outputs": [
    {
     "name": "stdout",
     "output_type": "stream",
     "text": [
      "(3, 3, 3)\n",
      "Batch multiplication C =: \n",
      "\n",
      "[[[ 6 12 18]\n",
      "  [ 6 12 18]\n",
      "  [ 6 12 18]]\n",
      "\n",
      " [[ 6 12 18]\n",
      "  [ 6 12 18]\n",
      "  [ 6 12 18]]\n",
      "\n",
      " [[ 6 12 18]\n",
      "  [ 6 12 18]\n",
      "  [ 6 12 18]]] \n",
      "\n",
      "Einsum C =: \n",
      "\n",
      "[[[ 6 12 18]\n",
      "  [ 6 12 18]\n",
      "  [ 6 12 18]]\n",
      "\n",
      " [[ 6 12 18]\n",
      "  [ 6 12 18]\n",
      "  [ 6 12 18]]\n",
      "\n",
      " [[ 6 12 18]\n",
      "  [ 6 12 18]\n",
      "  [ 6 12 18]]]\n"
     ]
    }
   ],
   "source": [
    "#multiplying 3D arrays\n",
    "\n",
    "A = np.array([\n",
    "    [\n",
    "        [1,2,3],\n",
    "        [1,2,3],\n",
    "        [1,2,3]\n",
    "    ],\n",
    "    [\n",
    "        [1,2,3],\n",
    "        [1,2,3],\n",
    "        [1,2,3]\n",
    "    ],\n",
    "    [\n",
    "        [1,2,3],\n",
    "        [1,2,3],\n",
    "        [1,2,3]\n",
    "    ],\n",
    "    \n",
    "])\n",
    "B = np.array([\n",
    "    [\n",
    "        [1,2,3],\n",
    "        [1,2,3],\n",
    "        [1,2,3]\n",
    "    ],\n",
    "    [\n",
    "        [1,2,3],\n",
    "        [1,2,3],\n",
    "        [1,2,3]\n",
    "    ],\n",
    "    [\n",
    "        [1,2,3],\n",
    "        [1,2,3],\n",
    "        [1,2,3]\n",
    "    ],\n",
    "    \n",
    "])\n",
    "\n",
    "print(A.shape)\n",
    "print(\"Batch multiplication C =: \\n\")\n",
    "print(np.matmul(A,B), \"\\n\")\n",
    "\n",
    "print(\"Einsum C =: \\n\")\n",
    "print(np.einsum('bij, bjk -> bik', A,B))"
   ]
  },
  {
   "cell_type": "code",
   "execution_count": 152,
   "metadata": {},
   "outputs": [
    {
     "name": "stdout",
     "output_type": "stream",
     "text": [
      "54\n"
     ]
    }
   ],
   "source": [
    "#finding the sum of all the elements in an array\n",
    "\n",
    "print(np.sum(A))"
   ]
  },
  {
   "cell_type": "code",
   "execution_count": 153,
   "metadata": {},
   "outputs": [
    {
     "name": "stdout",
     "output_type": "stream",
     "text": [
      "Einsum A =: \n",
      "\n",
      "54\n"
     ]
    }
   ],
   "source": [
    "print(\"Einsum A =: \\n\")\n",
    "print(np.einsum('bij ->', A))"
   ]
  },
  {
   "cell_type": "code",
   "execution_count": 156,
   "metadata": {},
   "outputs": [],
   "source": [
    "# print(\"Axis 0 sum A =: \\n\")\n",
    "# print(np.sum(A,axis=0))\n",
    "\n",
    "# print(\"Einsum A =: \\n\")\n",
    "# print(np.einsum('ij -> j', A))\n",
    "\n",
    "# print(\"Axis 1 sum A =: \\n\")\n",
    "# print(np.sum(A , axis=1),\"\\n\")\n",
    "\n",
    "# print(\"Einsum A =: \\n\")\n",
    "# print(np.einsum('ij -> i', A))"
   ]
  },
  {
   "cell_type": "code",
   "execution_count": 159,
   "metadata": {},
   "outputs": [
    {
     "data": {
      "text/plain": [
       "array([[[[ 0.62897486,  1.30340573]],\n",
       "\n",
       "        [[-1.02072197, -1.33402744]],\n",
       "\n",
       "        [[-0.93871187,  0.56151815]],\n",
       "\n",
       "        [[ 0.34243805, -2.05412001]]],\n",
       "\n",
       "\n",
       "       [[[ 2.83401394,  1.07017   ]],\n",
       "\n",
       "        [[ 4.82793318, -1.48811041]],\n",
       "\n",
       "        [[ 0.27282957, -0.21933503]],\n",
       "\n",
       "        [[-0.22646206, -0.7592533 ]]]])"
      ]
     },
     "execution_count": 159,
     "metadata": {},
     "output_type": "execute_result"
    }
   ],
   "source": [
    "A = np.random.randn(2,4,4,2) #bcij\n",
    "B = np.random.randn(2,4,4,1) #bcik\n",
    "\n",
    "np.einsum(\"bcik, bcij -> bckj\", B,A)"
   ]
  },
  {
   "cell_type": "code",
   "execution_count": 160,
   "metadata": {},
   "outputs": [
    {
     "data": {
      "text/plain": [
       "TensorShape([2, 4, 3])"
      ]
     },
     "execution_count": 160,
     "metadata": {},
     "output_type": "execute_result"
    }
   ],
   "source": [
    "#tf.expand_dims -> adds an extra axis to the tensor\n",
    "\n",
    "tensor_three_d.shape"
   ]
  },
  {
   "cell_type": "code",
   "execution_count": 163,
   "metadata": {},
   "outputs": [
    {
     "name": "stdout",
     "output_type": "stream",
     "text": [
      "(1, 2, 4, 3)\n",
      "the original matrix:  tf.Tensor(\n",
      "[[[  1   4   3]\n",
      "  [  1   5 454]\n",
      "  [ 34 565 424]\n",
      "  [123 453  67]]\n",
      "\n",
      " [[  1   4   3]\n",
      "  [  1   5 454]\n",
      "  [ 34 565 424]\n",
      "  [123 453  67]]], shape=(2, 4, 3), dtype=int32)\n",
      "After adding an extra dimension to the matrix tf.Tensor(\n",
      "[[[[  1   4   3]\n",
      "   [  1   5 454]\n",
      "   [ 34 565 424]\n",
      "   [123 453  67]]\n",
      "\n",
      "  [[  1   4   3]\n",
      "   [  1   5 454]\n",
      "   [ 34 565 424]\n",
      "   [123 453  67]]]], shape=(1, 2, 4, 3), dtype=int32)\n"
     ]
    }
   ],
   "source": [
    "#change the shape of the above matrix to 1,2,4,3\n",
    "add_dims_tensor_three_d = tf.expand_dims(tensor_three_d, axis=0)\n",
    "print(add_dims_tensor_three_d.shape)\n",
    "print(\"the original matrix: \",tensor_three_d)\n",
    "print(\"After adding an extra dimension to the matrix\", add_dims_tensor_three_d)"
   ]
  },
  {
   "cell_type": "code",
   "execution_count": 164,
   "metadata": {},
   "outputs": [
    {
     "name": "stdout",
     "output_type": "stream",
     "text": [
      "(2, 4, 3)\n"
     ]
    }
   ],
   "source": [
    "#tf.squeez method removes dimension of size 1 from the shape of the tensor\n",
    "\n",
    "print(tf.squeeze(add_dims_tensor_three_d).shape)"
   ]
  },
  {
   "cell_type": "code",
   "execution_count": 168,
   "metadata": {},
   "outputs": [
    {
     "name": "stdout",
     "output_type": "stream",
     "text": [
      "tf.Tensor(\n",
      "[[[  1   4   3]\n",
      "  [  1   5 454]\n",
      "  [ 34 565 424]\n",
      "  [123 453  67]]\n",
      "\n",
      " [[  1   4   3]\n",
      "  [  1   5 454]\n",
      "  [ 34 565 424]\n",
      "  [123 453  67]]], shape=(2, 4, 3), dtype=int32)\n"
     ]
    }
   ],
   "source": [
    "print(tf.squeeze(add_dims_tensor_three_d , axis=0))"
   ]
  },
  {
   "cell_type": "code",
   "execution_count": 169,
   "metadata": {},
   "outputs": [
    {
     "name": "stdout",
     "output_type": "stream",
     "text": [
      "tf.Tensor(\n",
      "[[  1   4   3   1]\n",
      " [  5 454  34 565]\n",
      " [424 123 453  67]\n",
      " [  1   4   3   1]\n",
      " [  5 454  34 565]\n",
      " [424 123 453  67]], shape=(6, 4), dtype=int32)\n"
     ]
    }
   ],
   "source": [
    "print(tf.reshape(add_dims_tensor_three_d, [6,4]))"
   ]
  },
  {
   "cell_type": "code",
   "execution_count": 170,
   "metadata": {},
   "outputs": [
    {
     "name": "stdout",
     "output_type": "stream",
     "text": [
      "tf.Tensor(\n",
      "[  1   4   3   1   5 454  34 565 424 123 453  67   1   4   3   1   5 454\n",
      "  34 565 424 123 453  67], shape=(24,), dtype=int32)\n"
     ]
    }
   ],
   "source": [
    "print(tf.reshape(add_dims_tensor_three_d, [24]))"
   ]
  },
  {
   "cell_type": "code",
   "execution_count": 171,
   "metadata": {},
   "outputs": [
    {
     "name": "stdout",
     "output_type": "stream",
     "text": [
      "tf.Tensor(\n",
      "[[  1   4   3]\n",
      " [  1   5 454]\n",
      " [ 34 565 424]\n",
      " [123 453  67]\n",
      " [  1   4   3]\n",
      " [  1   5 454]\n",
      " [ 34 565 424]\n",
      " [123 453  67]], shape=(8, 3), dtype=int32)\n"
     ]
    }
   ],
   "source": [
    "#if we donot know the dimension while reshaping the tensor , then we can give a -1 to the arguments , tensorflow will calculate the other dimension of the reshaped tensor\n",
    "\n",
    "print(tf.reshape(add_dims_tensor_three_d, [8,-1]))"
   ]
  },
  {
   "cell_type": "code",
   "execution_count": 178,
   "metadata": {},
   "outputs": [
    {
     "name": "stdout",
     "output_type": "stream",
     "text": [
      "(2, 3)\n",
      "(2, 3)\n",
      "tf.Tensor(\n",
      "[[ 1  2  3  1  2  3]\n",
      " [ 3  4  5 15  6  4]], shape=(2, 6), dtype=int32)\n"
     ]
    }
   ],
   "source": [
    "#concating two matrices\n",
    "\n",
    "t1 = np.array([\n",
    "    [1,2,3],\n",
    "    [3,4,5]\n",
    "])\n",
    "\n",
    "t2 = np.array([\n",
    "    [1,2,3],\n",
    "    [15,6,4]\n",
    "])\n",
    "\n",
    "print(t1.shape)\n",
    "print(t2.shape)\n",
    "\n",
    "print(tf.concat([t1,t2], axis=1)) #axis 0 means concatination accross column , and axis = 1 means concating across row"
   ]
  },
  {
   "cell_type": "code",
   "execution_count": 185,
   "metadata": {},
   "outputs": [
    {
     "name": "stdout",
     "output_type": "stream",
     "text": [
      "[[1 2 3]\n",
      " [3 4 5]]\n",
      "[[ 1  2  3]\n",
      " [15  6  4]]\n",
      "tf.Tensor(\n",
      "[[[ 1  1]\n",
      "  [ 2  2]\n",
      "  [ 3  3]]\n",
      "\n",
      " [[ 3 15]\n",
      "  [ 4  6]\n",
      "  [ 5  4]]], shape=(2, 3, 2), dtype=int32)\n"
     ]
    }
   ],
   "source": [
    "#in tensorflow : if we stack two matrices and specify the axis , then we create a new axis at that position\n",
    "\n",
    "#if axis = 0 , then we create a axis at the position 0\n",
    "print(t1)\n",
    "print(t2)\n",
    "\n",
    "print(tf.stack([t1, t2], axis=2))"
   ]
  },
  {
   "cell_type": "code",
   "execution_count": null,
   "metadata": {},
   "outputs": [],
   "source": []
  }
 ],
 "metadata": {
  "kernelspec": {
   "display_name": "Python 3",
   "language": "python",
   "name": "python3"
  },
  "language_info": {
   "codemirror_mode": {
    "name": "ipython",
    "version": 3
   },
   "file_extension": ".py",
   "mimetype": "text/x-python",
   "name": "python",
   "nbconvert_exporter": "python",
   "pygments_lexer": "ipython3",
   "version": "3.11.1"
  }
 },
 "nbformat": 4,
 "nbformat_minor": 2
}
